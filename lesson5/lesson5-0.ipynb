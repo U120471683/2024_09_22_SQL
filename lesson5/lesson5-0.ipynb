{
 "cells": [
  {
   "cell_type": "code",
   "execution_count": 23,
   "metadata": {},
   "outputs": [
    {
     "name": "stdout",
     "output_type": "stream",
     "text": [
      "Database opened successfully\n"
     ]
    },
    {
     "ename": "NameError",
     "evalue": "name 'execute' is not defined",
     "output_type": "error",
     "traceback": [
      "\u001b[1;31m---------------------------------------------------------------------------\u001b[0m",
      "\u001b[1;31mNameError\u001b[0m                                 Traceback (most recent call last)",
      "Cell \u001b[1;32mIn[23], line 6\u001b[0m\n\u001b[0;32m      4\u001b[0m connecttion\u001b[38;5;241m=\u001b[39mpsycopg2\u001b[38;5;241m.\u001b[39mconnect(host\u001b[38;5;241m=\u001b[39m\u001b[38;5;124m'\u001b[39m\u001b[38;5;124m192.168.0.252\u001b[39m\u001b[38;5;124m'\u001b[39m,database\u001b[38;5;241m=\u001b[39m\u001b[38;5;124m'\u001b[39m\u001b[38;5;124mmydatabase_a07\u001b[39m\u001b[38;5;124m'\u001b[39m,user\u001b[38;5;241m=\u001b[39m\u001b[38;5;124m'\u001b[39m\u001b[38;5;124ma07\u001b[39m\u001b[38;5;124m'\u001b[39m,password\u001b[38;5;241m=\u001b[39m\u001b[38;5;124m'\u001b[39m\u001b[38;5;124mraspberry\u001b[39m\u001b[38;5;124m'\u001b[39m)\n\u001b[0;32m      5\u001b[0m \u001b[38;5;28mprint\u001b[39m(\u001b[38;5;124m\"\u001b[39m\u001b[38;5;124mDatabase opened successfully\u001b[39m\u001b[38;5;124m\"\u001b[39m)\n\u001b[1;32m----> 6\u001b[0m cursor,\u001b[43mexecute\u001b[49m(\u001b[38;5;124m\"\u001b[39m\u001b[38;5;124mSELECT version()\u001b[39m\u001b[38;5;124m\"\u001b[39m)\n",
      "\u001b[1;31mNameError\u001b[0m: name 'execute' is not defined"
     ]
    }
   ],
   "source": [
    "#pip install psycopg2\n",
    "\n",
    "import psycopg2\n",
    "connecttion=psycopg2.connect(host='192.168.0.252',database='mydatabase_a07',user='a07',password='raspberry')\n",
    "print(\"Database opened successfully\")\n",
    "cursor,execute(\"SELECT version()\")\n"
   ]
  },
  {
   "cell_type": "code",
   "execution_count": 13,
   "metadata": {},
   "outputs": [
    {
     "name": "stdout",
     "output_type": "stream",
     "text": [
      "('PostgreSQL 15.8 (Debian 15.8-0+deb12u1) on aarch64-unknown-linux-gnu, compiled by gcc (Debian 12.2.0-14) 12.2.0, 64-bit',)\n"
     ]
    }
   ],
   "source": [
    "#pip install psycopg2\n",
    "\n",
    "import psycopg2 \n",
    "\n",
    "connection = psycopg2.connect(host='192.168.0.252',database='mydatabase_a31',user='a31',password='raspberry') \n",
    "cursor = connection.cursor() # create a cursor object using cursor() method\n",
    "cursor.execute(\"SELECT version();\") # execute a statement\n",
    "db_version = cursor.fetchone()# Fetch a single row using fetchone() method.\n",
    "print(db_version)# Print the contents of the row\n",
    "cursor.close()# Close the cursor object\n",
    "connection.close()# Close the connection object\n"
   ]
  },
  {
   "cell_type": "code",
   "execution_count": 19,
   "metadata": {},
   "outputs": [
    {
     "name": "stdout",
     "output_type": "stream",
     "text": [
      "Database opened successfully\n"
     ]
    },
    {
     "ename": "NameError",
     "evalue": "name 'execute' is not defined",
     "output_type": "error",
     "traceback": [
      "\u001b[1;31m---------------------------------------------------------------------------\u001b[0m",
      "\u001b[1;31mNameError\u001b[0m                                 Traceback (most recent call last)",
      "Cell \u001b[1;32mIn[19], line 7\u001b[0m\n\u001b[0;32m      5\u001b[0m connection \u001b[38;5;241m=\u001b[39m psycopg2\u001b[38;5;241m.\u001b[39mconnect(host\u001b[38;5;241m=\u001b[39m\u001b[38;5;124m'\u001b[39m\u001b[38;5;124mdpg-cseffitsvqrc73f2h1gg-a.singapore-postgres.render.com\u001b[39m\u001b[38;5;124m'\u001b[39m,database\u001b[38;5;241m=\u001b[39m\u001b[38;5;124m'\u001b[39m\u001b[38;5;124mrender_chilee\u001b[39m\u001b[38;5;124m'\u001b[39m,user\u001b[38;5;241m=\u001b[39m\u001b[38;5;124m'\u001b[39m\u001b[38;5;124mrender_chilee_user\u001b[39m\u001b[38;5;124m'\u001b[39m,password\u001b[38;5;241m=\u001b[39m\u001b[38;5;124m'\u001b[39m\u001b[38;5;124ma7aokiI9bERdgv5QFW3Jujv9uBFI7U3X\u001b[39m\u001b[38;5;124m'\u001b[39m)\n\u001b[0;32m      6\u001b[0m \u001b[38;5;28mprint\u001b[39m(\u001b[38;5;124m\"\u001b[39m\u001b[38;5;124mDatabase opened successfully\u001b[39m\u001b[38;5;124m\"\u001b[39m)\n\u001b[1;32m----> 7\u001b[0m cursor,\u001b[43mexecute\u001b[49m(\u001b[38;5;124m\"\u001b[39m\u001b[38;5;124mSELECT version()\u001b[39m\u001b[38;5;124m\"\u001b[39m)\n",
      "\u001b[1;31mNameError\u001b[0m: name 'execute' is not defined"
     ]
    }
   ],
   "source": [
    "#pip install psycopg2\n",
    "\n",
    "\n",
    "import psycopg2\n",
    "connection = psycopg2.connect(host='dpg-cseffitsvqrc73f2h1gg-a.singapore-postgres.render.com',database='render_chilee',user='render_chilee_user',password='a7aokiI9bERdgv5QFW3Jujv9uBFI7U3X')\n",
    "print(\"Database opened successfully\")\n",
    "cursor,execute(\"SELECT version()\")"
   ]
  },
  {
   "cell_type": "code",
   "execution_count": 14,
   "metadata": {},
   "outputs": [
    {
     "name": "stdout",
     "output_type": "stream",
     "text": [
      "('PostgreSQL 16.4 (Debian 16.4-1.pgdg120+2) on x86_64-pc-linux-gnu, compiled by gcc (Debian 12.2.0-14) 12.2.0, 64-bit',)\n"
     ]
    }
   ],
   "source": [
    "#pip install psycopg2\n",
    "\n",
    "connection = psycopg2.connect(host='dpg-cseffitsvqrc73f2h1gg-a.singapore-postgres.render.com',database='render_chilee',user='render_chilee_user',password='a7aokiI9bERdgv5QFW3Jujv9uBFI7U3X')\n",
    "cursor = connection.cursor()\n",
    "cursor.execute(\"SELECT version();\")\n",
    "db_version = cursor.fetchone()\n",
    "print(db_version)\n",
    "cursor.close()\n",
    "connection.close()"
   ]
  },
  {
   "cell_type": "code",
   "execution_count": 22,
   "metadata": {},
   "outputs": [
    {
     "name": "stdout",
     "output_type": "stream",
     "text": [
      "('PostgreSQL 16.4 (Debian 16.4-1.pgdg120+2) on x86_64-pc-linux-gnu, compiled by gcc (Debian 12.2.0-14) 12.2.0, 64-bit',)\n"
     ]
    }
   ],
   "source": [
    "#pip install psycopg2\n",
    "\n",
    "connection = psycopg2.connect(host='dpg-cseffitsvqrc73f2h1gg-a.singapore-postgres.render.com',database='render_chilee',user='render_chilee_user',password='a7aokiI9bERdgv5QFW3Jujv9uBFI7U3X')\n",
    "cursor = connection.cursor()\n",
    "cursor.execute(\"SELECT version();\")\n",
    "db_version = cursor.fetchone()\n",
    "print(db_version)\n",
    "cursor.close()\n",
    "connection.close()"
   ]
  },
  {
   "cell_type": "code",
   "execution_count": 20,
   "metadata": {},
   "outputs": [
    {
     "name": "stdout",
     "output_type": "stream",
     "text": [
      "Database opened successfully\n",
      "You are connected to -  ('PostgreSQL 16.4 (Debian 16.4-1.pgdg120+2) on x86_64-pc-linux-gnu, compiled by gcc (Debian 12.2.0-14) 12.2.0, 64-bit',) \n",
      "\n"
     ]
    }
   ],
   "source": [
    "#pip install psycopg2\n",
    "\n",
    "import psycopg2\n",
    "\n",
    "# 连接到 PostgreSQL 数据库\n",
    "connection = psycopg2.connect(\n",
    "    host='dpg-cseffitsvqrc73f2h1gg-a.singapore-postgres.render.com',\n",
    "    database='render_chilee',\n",
    "    user='render_chilee_user',\n",
    "    password='a7aokiI9bERdgv5QFW3Jujv9uBFI7U3X'\n",
    ")\n",
    "\n",
    "print(\"Database opened successfully\")\n",
    "\n",
    "# 创建游标对象\n",
    "cursor = connection.cursor()\n",
    "\n",
    "# 执行 SQL 查询\n",
    "cursor.execute(\"SELECT version()\")\n",
    "\n",
    "# 获取查询结果\n",
    "record = cursor.fetchone()\n",
    "print(\"You are connected to - \", record, \"\\n\")\n",
    "\n",
    "# 关闭游标和连接\n",
    "cursor.close()\n",
    "connection.close()\n"
   ]
  },
  {
   "cell_type": "code",
   "execution_count": 24,
   "metadata": {},
   "outputs": [
    {
     "name": "stdout",
     "output_type": "stream",
     "text": [
      "('PostgreSQL 16.4 (Debian 16.4-1.pgdg120+2) on x86_64-pc-linux-gnu, compiled by gcc (Debian 12.2.0-14) 12.2.0, 64-bit',)\n"
     ]
    }
   ],
   "source": [
    "\n",
    "#pip install psycopg2\n",
    "\n",
    "connection = psycopg2.connect(host='dpg-cseffitsvqrc73f2h1gg-a.singapore-postgres.render.com',database='render_chilee',user='render_chilee_user',password='a7aokiI9bERdgv5QFW3Jujv9uBFI7U3X')\n",
    "cursor = connection.cursor()\n",
    "cursor.execute(\"SELECT version();\")\n",
    "db_version = cursor.fetchone()\n",
    "print(db_version)\n",
    "cursor.close()\n",
    "connection.close()"
   ]
  }
 ],
 "metadata": {
  "kernelspec": {
   "display_name": "chillee-sql",
   "language": "python",
   "name": "python3"
  },
  "language_info": {
   "codemirror_mode": {
    "name": "ipython",
    "version": 3
   },
   "file_extension": ".py",
   "mimetype": "text/x-python",
   "name": "python",
   "nbconvert_exporter": "python",
   "pygments_lexer": "ipython3",
   "version": "3.10.15"
  }
 },
 "nbformat": 4,
 "nbformat_minor": 2
}

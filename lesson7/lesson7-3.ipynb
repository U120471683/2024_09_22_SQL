{
 "cells": [
  {
   "cell_type": "code",
   "execution_count": 1,
   "metadata": {},
   "outputs": [
    {
     "data": {
      "text/plain": [
       "6704"
      ]
     },
     "execution_count": 1,
     "metadata": {},
     "output_type": "execute_result"
    }
   ],
   "source": [
    "import psycopg2\n",
    "from dotenv import load_dotenv\n",
    "\n",
    "import os\n",
    "load_dotenv()\n",
    "\n",
    "conn = psycopg2.connect(\n",
    "    host=os.environ['HOST'],\n",
    "    database=os.environ['DATABASE'],\n",
    "    user=os.environ['USER'],\n",
    "    password=os.environ['PASSWORD']\n",
    ")\n",
    "with conn:\n",
    "    with conn.cursor() as cursor:\n",
    "        sql='''\n",
    "        SELECT country,市場.name,date,adj_close,volume\n",
    "        FROM 股市 JOIN 市場 ON 股市.name = 市場.name\n",
    "        WHERE country = '台灣';\n",
    "\n",
    "        '''   \n",
    "        cursor.execute(sql)\n",
    "        all_data = cursor.fetchall()\n",
    "conn.close()\n",
    "len(all_data)        \n"
   ]
  },
  {
   "cell_type": "code",
   "execution_count": 2,
   "metadata": {},
   "outputs": [
    {
     "data": {
      "text/plain": [
       "6704"
      ]
     },
     "execution_count": 2,
     "metadata": {},
     "output_type": "execute_result"
    }
   ],
   "source": [
    "\n",
    "import psycopg2\n",
    "from dotenv import load_dotenv\n",
    "\n",
    "import os\n",
    "load_dotenv()\n",
    "\n",
    "conn = psycopg2.connect(\n",
    "    host=os.environ['HOST1'],\n",
    "    database=os.environ['DATABASE1'],\n",
    "    user=os.environ['USER1'],\n",
    "    password=os.environ['PASSWORD1']\n",
    ")\n",
    "with conn:\n",
    "    with conn.cursor() as cursor:\n",
    "        sql='''\n",
    "        SELECT country,市場.name,date,adj_close,volume\n",
    "        FROM 股市 JOIN 市場 ON 股市.name = 市場.name\n",
    "        WHERE country = '台灣';\n",
    "\n",
    "        '''   \n",
    "        cursor.execute(sql)\n",
    "        all_data = cursor.fetchall()\n",
    "conn.close()\n",
    "len(all_data)        \n"
   ]
  }
 ],
 "metadata": {
  "kernelspec": {
   "display_name": "chillee-sql",
   "language": "python",
   "name": "python3"
  },
  "language_info": {
   "codemirror_mode": {
    "name": "ipython",
    "version": 3
   },
   "file_extension": ".py",
   "mimetype": "text/x-python",
   "name": "python",
   "nbconvert_exporter": "python",
   "pygments_lexer": "ipython3",
   "version": "3.10.15"
  }
 },
 "nbformat": 4,
 "nbformat_minor": 2
}

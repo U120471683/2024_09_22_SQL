{
 "cells": [
  {
   "cell_type": "code",
   "execution_count": null,
   "metadata": {
    "vscode": {
     "languageId": "plaintext"
    }
   },
   "outputs": [],
   "source": [
    "import streamlit as st  # 引入套件  streamlit       \n",
    "import psycopg2\n",
    "from dotenv import load_dotenv\n",
    "\n",
    "import os\n",
    "load_dotenv()\n",
    "\n",
    "conn = psycopg2.connect(\n",
    "    host=os.environ['HOST'],\n",
    "    database=os.environ['DATABASE'],\n",
    "    user=os.environ['USER'],\n",
    "    password=os.environ['PASSWORD']\n",
    ")\n",
    "with conn:\n",
    "    with conn.cursor() as cursor:\n",
    "        sql='''\n",
    "        SELECT * FROM 市場\n",
    "\n",
    "        '''   \n",
    "        cursor.execute(sql)\n",
    "        all_country= cursor.fetchall()\n",
    "conn.close()\n",
    "\n",
    "\n",
    "st.title('世界大盤分析')\n",
    "with st.sidebar:\n",
    "    st.title('請選擇股票市場:')\n",
    "    st.write('## 台灣')\n",
    "\n",
    "    #st.write(all_country)   #TypeError: Object of type 'psycopg2.extras.RealDictRow' is not JSON serializable 是因為all_country是一個list of dict\n",
    "    st.write(dict(all_country)) #TypeError: cannot convert dictionary update sequence element #0 to a sequence             \n"
   ]
  }
 ],
 "metadata": {
  "language_info": {
   "name": "python"
  }
 },
 "nbformat": 4,
 "nbformat_minor": 2
}

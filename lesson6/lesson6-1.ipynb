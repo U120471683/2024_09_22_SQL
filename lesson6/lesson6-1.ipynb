{
 "cells": [
  {
   "cell_type": "code",
   "execution_count": 1,
   "metadata": {},
   "outputs": [
    {
     "name": "stdout",
     "output_type": "stream",
     "text": [
      "Database opened successfully\n",
      "You are connected to -  ('PostgreSQL 16.4 (Debian 16.4-1.pgdg120+2) on x86_64-pc-linux-gnu, compiled by gcc (Debian 12.2.0-14) 12.2.0, 64-bit',) \n",
      "\n"
     ]
    }
   ],
   "source": [
    "\n",
    "#pip install psycopg2\n",
    "\n",
    "import psycopg2\n",
    "\n",
    "# 连接到 PostgreSQL 数据库\n",
    "connection = psycopg2.connect(\n",
    "    host='dpg-cseffitsvqrc73f2h1gg-a.singapore-postgres.render.com',\n",
    "    database='render_chilee',\n",
    "    user='render_chilee_user',\n",
    "    password='a7aokiI9bERdgv5QFW3Jujv9uBFI7U3X' #引數值可以換行\n",
    ")\n",
    "\n",
    "print(\"Database opened successfully\")\n",
    "\n",
    "# 创建游标对象\n",
    "cursor = connection.cursor()\n",
    "\n",
    "# 执行 SQL 查询\n",
    "cursor.execute(\"SELECT version()\")\n",
    "\n",
    "# 获取查询结果\n",
    "record = cursor.fetchone()\n",
    "print(\"You are connected to - \", record, \"\\n\")\n",
    "\n",
    "# 关闭游标和连接\n",
    "cursor.close()\n",
    "connection.close()\n"
   ]
  },
  {
   "cell_type": "code",
   "execution_count": 2,
   "metadata": {},
   "outputs": [
    {
     "name": "stdout",
     "output_type": "stream",
     "text": [
      "Requirement already satisfied: psycopg2 in c:\\users\\shich\\miniconda3\\envs\\chillee-sql\\lib\\site-packages (2.9.10)\n",
      "Database opened successfully\n"
     ]
    },
    {
     "ename": "InterfaceError",
     "evalue": "cursor already closed",
     "output_type": "error",
     "traceback": [
      "\u001b[1;31m---------------------------------------------------------------------------\u001b[0m",
      "\u001b[1;31mInterfaceError\u001b[0m                            Traceback (most recent call last)",
      "Cell \u001b[1;32mIn[2], line 6\u001b[0m\n\u001b[0;32m      4\u001b[0m connecttion\u001b[38;5;241m=\u001b[39mpsycopg2\u001b[38;5;241m.\u001b[39mconnect(host\u001b[38;5;241m=\u001b[39m\u001b[38;5;124m'\u001b[39m\u001b[38;5;124m192.168.0.252\u001b[39m\u001b[38;5;124m'\u001b[39m,database\u001b[38;5;241m=\u001b[39m\u001b[38;5;124m'\u001b[39m\u001b[38;5;124mmydatabase_a07\u001b[39m\u001b[38;5;124m'\u001b[39m,user\u001b[38;5;241m=\u001b[39m\u001b[38;5;124m'\u001b[39m\u001b[38;5;124ma07\u001b[39m\u001b[38;5;124m'\u001b[39m,password\u001b[38;5;241m=\u001b[39m\u001b[38;5;124m'\u001b[39m\u001b[38;5;124mraspberry\u001b[39m\u001b[38;5;124m'\u001b[39m)\n\u001b[0;32m      5\u001b[0m \u001b[38;5;28mprint\u001b[39m(\u001b[38;5;124m\"\u001b[39m\u001b[38;5;124mDatabase opened successfully\u001b[39m\u001b[38;5;124m\"\u001b[39m)\n\u001b[1;32m----> 6\u001b[0m \u001b[43mcursor\u001b[49m\u001b[38;5;241;43m.\u001b[39;49m\u001b[43mexecute\u001b[49m\u001b[43m(\u001b[49m\u001b[38;5;124;43m\"\u001b[39;49m\u001b[38;5;124;43mSELECT version()\u001b[39;49m\u001b[38;5;124;43m\"\u001b[39;49m\u001b[43m)\u001b[49m\n",
      "\u001b[1;31mInterfaceError\u001b[0m: cursor already closed"
     ]
    }
   ],
   "source": [
    "\n",
    "#pip install psycopg2\n",
    "!pip install psycopg2\n",
    "import psycopg2\n",
    "connecttion=psycopg2.connect(host='192.168.0.252',database='mydatabase_a07',user='a07',password='raspberry')\n",
    "print(\"Database opened successfully\")\n",
    "cursor.execute(\"SELECT version()\")"
   ]
  },
  {
   "cell_type": "code",
   "execution_count": 4,
   "metadata": {},
   "outputs": [
    {
     "name": "stdout",
     "output_type": "stream",
     "text": [
      "Database opened successfully\n",
      "You are connected to -  ('PostgreSQL 15.8 (Debian 15.8-0+deb12u1) on aarch64-unknown-linux-gnu, compiled by gcc (Debian 12.2.0-14) 12.2.0, 64-bit',) \n",
      "\n"
     ]
    }
   ],
   "source": [
    "#pip install psycopg2\n",
    "#!pip install psycopg2\n",
    "import psycopg2\n",
    "\n",
    "# 连接到 PostgreSQL 数据库\n",
    "connection = psycopg2.connect(\n",
    "    \n",
    "    host='piRobert0301.local',\n",
    "    \n",
    "    #host='192.168.0.252',       #引數值可以換行\n",
    "    database='mydatabase_a07',  #引數值可以換行\n",
    "    user='a07',                 #引數值可以換行\n",
    "    password='raspberry' \n",
    ")\n",
    "\n",
    "print(\"Database opened successfully\")\n",
    "\n",
    "# 创建游标对象\n",
    "cursor = connection.cursor()\n",
    "\n",
    "# 执行 SQL 查询\n",
    "cursor.execute(\"SELECT version()\")\n",
    "\n",
    "# 获取查询结果\n",
    "record = cursor.fetchone()\n",
    "print(\"You are connected to - \", record, \"\\n\")\n",
    "\n",
    "# 关闭游标和连接\n",
    "cursor.close()\n",
    "connection.close()\n"
   ]
  },
  {
   "cell_type": "code",
   "execution_count": 9,
   "metadata": {},
   "outputs": [
    {
     "name": "stdout",
     "output_type": "stream",
     "text": [
      "Database opened successfully\n"
     ]
    },
    {
     "data": {
      "text/plain": [
       "psycopg2.extensions.connection"
      ]
     },
     "execution_count": 9,
     "metadata": {},
     "output_type": "execute_result"
    }
   ],
   "source": [
    "\n",
    "#pip install psycopg2\n",
    "#!pip install psycopg2\n",
    "import psycopg2\n",
    "\n",
    "# 连接到 PostgreSQL 数据库\n",
    "connection = psycopg2.connect(\n",
    "    \n",
    "    host='piRobert0301.local',\n",
    "    \n",
    "    #host='192.168.0.252',       #引數值可以換行\n",
    "    database='mydatabase_a07',  #引數值可以換行\n",
    "    user='a07',                 #引數值可以換行\n",
    "    password='raspberry' \n",
    ")\n",
    "\n",
    "print(\"Database opened successfully\")\n",
    "type(connection)\n"
   ]
  },
  {
   "cell_type": "code",
   "execution_count": 10,
   "metadata": {},
   "outputs": [
    {
     "data": {
      "text/plain": [
       "psycopg2.extensions.cursor"
      ]
     },
     "execution_count": 10,
     "metadata": {},
     "output_type": "execute_result"
    }
   ],
   "source": [
    "\n",
    "# 创建游标对象\n",
    "cursor = connection.cursor()\n",
    "type(cursor)"
   ]
  },
  {
   "cell_type": "code",
   "execution_count": 17,
   "metadata": {},
   "outputs": [],
   "source": [
    "\n",
    "# 执行 SQL 查询\n",
    "cursor.execute(\"SELECT * FROM stations;\")"
   ]
  },
  {
   "cell_type": "code",
   "execution_count": 19,
   "metadata": {},
   "outputs": [
    {
     "data": {
      "text/plain": [
       "list"
      ]
     },
     "execution_count": 19,
     "metadata": {},
     "output_type": "execute_result"
    }
   ],
   "source": [
    "#record = cursor.fetchone() 一筆叫tuple\n",
    "record = cursor.fetchall()  多筆叫list\n",
    "type(record)"
   ]
  },
  {
   "cell_type": "code",
   "execution_count": 15,
   "metadata": {},
   "outputs": [
    {
     "data": {
      "text/plain": [
       "(2,\n",
       " '910',\n",
       " '三坑',\n",
       " '三坑',\n",
       " '基隆市仁愛區德厚里龍安街 206 號',\n",
       " '02-24230289',\n",
       " '25.12305 121.74202',\n",
       " True)"
      ]
     },
     "execution_count": 15,
     "metadata": {},
     "output_type": "execute_result"
    }
   ],
   "source": [
    "\n",
    "record"
   ]
  }
 ],
 "metadata": {
  "kernelspec": {
   "display_name": "chillee-sql",
   "language": "python",
   "name": "python3"
  },
  "language_info": {
   "codemirror_mode": {
    "name": "ipython",
    "version": 3
   },
   "file_extension": ".py",
   "mimetype": "text/x-python",
   "name": "python",
   "nbconvert_exporter": "python",
   "pygments_lexer": "ipython3",
   "version": "3.10.15"
  }
 },
 "nbformat": 4,
 "nbformat_minor": 2
}

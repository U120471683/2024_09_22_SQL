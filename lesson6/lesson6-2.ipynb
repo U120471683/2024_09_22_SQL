{
 "cells": [
  {
   "cell_type": "markdown",
   "metadata": {},
   "source": [
    "\n",
    " ####  tuple\n",
    "\n",
    "- 用小括號 () 表示\n",
    "\n",
    "- 暫時的資料\n",
    "\n",
    "- 可儲存多個的值\n",
    "\n",
    "- 不可以新增,刪除元素\n",
    "\n",
    "- 序列,串列資類(for in操作)"
   ]
  },
  {
   "cell_type": "code",
   "execution_count": 2,
   "metadata": {},
   "outputs": [
    {
     "name": "stdout",
     "output_type": "stream",
     "text": [
      "1\n",
      "2\n",
      "3\n",
      "4\n",
      "5\n"
     ]
    }
   ],
   "source": [
    "#tu1有5個元素，分別是1,2,3,4,5 自動放入中 用小括號 () 來表示\n",
    "\n",
    "tu1 = (1,2,3,4,5)\n",
    "for value in tu1:\n",
    "    print(value)"
   ]
  },
  {
   "cell_type": "markdown",
   "metadata": {},
   "source": [
    "\n",
    "###### 字串也是一種序列(串列資料)，所以也可以用for-in迴圈來逐一取出字串中的字元  \n",
    "###### 用單引號''來表示字串 "
   ]
  },
  {
   "cell_type": "code",
   "execution_count": 3,
   "metadata": {},
   "outputs": [
    {
     "name": "stdout",
     "output_type": "stream",
     "text": [
      "h\n",
      "e\n",
      "l\n",
      "l\n",
      "o\n",
      " \n",
      "p\n",
      "y\n",
      "t\n",
      "h\n",
      "o\n",
      "n\n",
      "!\n"
     ]
    }
   ],
   "source": [
    "#字串也是一種序列(串列資料)，所以也可以用for迴圈來逐一取出字串中的字元  用單引號''來表示字串        \n",
    "for letter in 'hello python!':\n",
    "    print(letter)"
   ]
  },
  {
   "cell_type": "code",
   "execution_count": 11,
   "metadata": {},
   "outputs": [
    {
     "data": {
      "text/plain": [
       "tuple"
      ]
     },
     "execution_count": 11,
     "metadata": {},
     "output_type": "execute_result"
    }
   ],
   "source": [
    "\n",
    "type(tu1)\n"
   ]
  },
  {
   "cell_type": "markdown",
   "metadata": {},
   "source": [
    "\n",
    "#### 建立 list\n",
    "- list  用中括號 [] 表示\n",
    "\n",
    "- 可儲存多的值\n",
    "\n",
    "- 可以修改,新增,刪除元素\n",
    "\n",
    "- 序列,串列資類(for in操作)\n"
   ]
  },
  {
   "cell_type": "code",
   "execution_count": 5,
   "metadata": {},
   "outputs": [
    {
     "name": "stdout",
     "output_type": "stream",
     "text": [
      "2\n",
      "4\n",
      "6\n",
      "8\n",
      "10\n"
     ]
    }
   ],
   "source": [
    "#建立list\n",
    "li1 = [2, 4, 6, 8, 10]\n",
    "print(li1[0])\n",
    "print(li1[1])\n",
    "print(li1[2])\n",
    "print(li1[3])\n",
    "print(li1[4])"
   ]
  },
  {
   "cell_type": "code",
   "execution_count": null,
   "metadata": {},
   "outputs": [
    {
     "name": "stdout",
     "output_type": "stream",
     "text": [
      "2\n",
      "4\n",
      "6\n",
      "8\n",
      "10\n"
     ]
    }
   ],
   "source": [
    "\n",
    "for element in li1:\n",
    "    print(element)\n",
    "\n",
    "# 續看  lesson6-0.ipynb   的範例"
   ]
  },
  {
   "cell_type": "code",
   "execution_count": 7,
   "metadata": {},
   "outputs": [
    {
     "data": {
      "text/plain": [
       "list"
      ]
     },
     "execution_count": 7,
     "metadata": {},
     "output_type": "execute_result"
    }
   ],
   "source": [
    "\n",
    "type(li1)"
   ]
  },
  {
   "cell_type": "code",
   "execution_count": null,
   "metadata": {},
   "outputs": [
    {
     "data": {
      "text/plain": [
       "['a', 300, 'PYTHON', 56.0]"
      ]
     },
     "execution_count": 14,
     "metadata": {},
     "output_type": "execute_result"
    }
   ],
   "source": [
    "\n",
    "li2=[]                  #建立空的list       \n",
    "li2.append('a')         #將'a'加入li2   \n",
    "li2.append(300)         #將300加入li2        \n",
    "li2.append('PYTHON')    #將'PYTHON'加入li2      \n",
    "li2.append(56.0)        #將56.0加入li2      \n",
    "li2                     #顯示li2的內容\n",
    "\n",
    "# 續看  lesson6-0.ipynb   的範例"
   ]
  },
  {
   "cell_type": "markdown",
   "metadata": {},
   "source": [
    "\n",
    "#### 建立dict\n",
    "\n",
    "-用中括號 {} 表示\n",
    "\n",
    "- mapping -> (key,value)\n",
    "\n",
    "- key不可以重複\n"
   ]
  },
  {
   "cell_type": "code",
   "execution_count": null,
   "metadata": {},
   "outputs": [
    {
     "data": {
      "text/plain": [
       "{'tw': 'taiwan', 'jp': 'japan'}"
      ]
     },
     "execution_count": 8,
     "metadata": {},
     "output_type": "execute_result"
    }
   ],
   "source": [
    "\n",
    "codes = {'tw':'taiwan',\n",
    "         'jp':'japan'}    #建立字典codes，有兩個元素，分別是tw和jp\n",
    "codes"
   ]
  },
  {
   "cell_type": "code",
   "execution_count": null,
   "metadata": {},
   "outputs": [
    {
     "name": "stdout",
     "output_type": "stream",
     "text": [
      "taiwan\n",
      "japan\n"
     ]
    }
   ],
   "source": [
    "\n",
    "#取出值\n",
    "print(codes['tw'])  #取出tw的值\n",
    "print(codes['jp'])  #取出jp的值 "
   ]
  },
  {
   "cell_type": "code",
   "execution_count": null,
   "metadata": {},
   "outputs": [
    {
     "data": {
      "text/plain": [
       "{'tw': 'taiwan', 'jp': 'japan', 'hk': 'hong kong'}"
      ]
     },
     "execution_count": 11,
     "metadata": {},
     "output_type": "execute_result"
    }
   ],
   "source": [
    "#新增元素\n",
    "codes['hk'] = 'hong kong' #新增元素hk:hong kong     \n",
    "codes\n"
   ]
  },
  {
   "cell_type": "code",
   "execution_count": 16,
   "metadata": {},
   "outputs": [
    {
     "name": "stdout",
     "output_type": "stream",
     "text": [
      "{}\n",
      "{}\n"
     ]
    }
   ],
   "source": [
    "\n",
    "#建立空的dict\n",
    "\n",
    "dict2 ={}  #建立空的dict\n",
    "print(dict2)\n",
    "\n",
    "dict1 = dict()  #建立空的dict\n",
    "print(dict1)\n",
    "\n"
   ]
  },
  {
   "cell_type": "code",
   "execution_count": null,
   "metadata": {},
   "outputs": [
    {
     "name": "stdout",
     "output_type": "stream",
     "text": [
      "tw ['tw'] taiwan\n",
      "jp ['jp'] japan\n",
      "hk ['hk'] hong kong\n"
     ]
    }
   ],
   "source": [
    "\n",
    "for key in codes:\n",
    "    print(key,[key],codes[key]) #列出codes的所有元素  \n",
    "    "
   ]
  },
  {
   "cell_type": "code",
   "execution_count": null,
   "metadata": {},
   "outputs": [
    {
     "name": "stdout",
     "output_type": "stream",
     "text": [
      "10\n"
     ]
    },
    {
     "data": {
      "text/plain": [
       "20"
      ]
     },
     "execution_count": 34,
     "metadata": {},
     "output_type": "execute_result"
    }
   ],
   "source": [
    "\n",
    "#tuple拆解法\n",
    "(n, m) = (10, 20)\n",
    "print(n)\n",
    "m\n",
    "\n",
    "# 續看  lesson6-0.ipynb   的範例"
   ]
  }
 ],
 "metadata": {
  "kernelspec": {
   "display_name": "chillee-sql",
   "language": "python",
   "name": "python3"
  },
  "language_info": {
   "codemirror_mode": {
    "name": "ipython",
    "version": 3
   },
   "file_extension": ".py",
   "mimetype": "text/x-python",
   "name": "python",
   "nbconvert_exporter": "python",
   "pygments_lexer": "ipython3",
   "version": "3.10.15"
  }
 },
 "nbformat": 4,
 "nbformat_minor": 2
}

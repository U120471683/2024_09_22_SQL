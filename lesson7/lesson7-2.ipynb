{
 "cells": [
  {
   "cell_type": "code",
   "execution_count": null,
   "metadata": {},
   "outputs": [],
   "source": [
    "import psycopg2\n",
    "conn = psycopg2.connect(\n",
    "    host='dpg-cseffitsvqrc73f2h1gg-a.singapore-postgres.render.com',\n",
    "    database='render_chilee',\n",
    "    user='render_chilee_user',\n",
    "    password='a7aokiI9bERdgv5QFW3Jujv9uBFI7U3X'\n",
    ")\n",
    "with conn:\n",
    "    with conn.cursor() as cursor:       #建立cursor\n",
    "        sql='''                        #建立表格\n",
    "        INSERT INTO 市場 values (%s,%s)     #插入資料                                       \n",
    "        ON CONFLICT DO NOTHING;             #如果資料重複則不插入\n",
    "        '''\n",
    "        cursor.execute(sql,['^TWII','台灣'])    #執行sql                            \n",
    "conn.close()                           #關閉連線"
   ]
  }
 ],
 "metadata": {
  "kernelspec": {
   "display_name": "chillee-sql",
   "language": "python",
   "name": "python3"
  },
  "language_info": {
   "codemirror_mode": {
    "name": "ipython",
    "version": 3
   },
   "file_extension": ".py",
   "mimetype": "text/x-python",
   "name": "python",
   "nbconvert_exporter": "python",
   "pygments_lexer": "ipython3",
   "version": "3.10.15"
  }
 },
 "nbformat": 4,
 "nbformat_minor": 2
}
